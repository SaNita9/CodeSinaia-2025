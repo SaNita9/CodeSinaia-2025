{
 "cells": [
  {
   "cell_type": "code",
   "execution_count": 1,
   "id": "d6d9d590",
   "metadata": {},
   "outputs": [],
   "source": [
    "from Mountains_1 import load_mountains\n",
    "import statistics"
   ]
  },
  {
   "cell_type": "code",
   "execution_count": 2,
   "id": "63ac79a5",
   "metadata": {},
   "outputs": [
    {
     "name": "stdout",
     "output_type": "stream",
     "text": [
      "Loaded a total of 137738 mountains from 258 countries\n"
     ]
    }
   ],
   "source": [
    "mountains_map, count = load_mountains(\"mountains_db.tsv\")\n",
    "countries = len(mountains_map.keys())\n",
    "print(f\"Loaded a total of {count} mountains from {countries} countries\")"
   ]
  },
  {
   "cell_type": "code",
   "execution_count": 3,
   "id": "a8f57e38",
   "metadata": {},
   "outputs": [
    {
     "name": "stdout",
     "output_type": "stream",
     "text": [
      "No elevation data for 53149 mountains. \n"
     ]
    }
   ],
   "source": [
    "count_no_elevation = 0\n",
    "for items in mountains_map.items():\n",
    "    for mountain_info in items[1]:\n",
    "        count_no_elevation += 1 if mountain_info[\"elevation\"] else 0\n",
    "print(f'No elevation data for {count_no_elevation} mountains. ')"
   ]
  },
  {
   "cell_type": "code",
   "execution_count": 4,
   "id": "33c5e4d1",
   "metadata": {},
   "outputs": [
    {
     "name": "stdout",
     "output_type": "stream",
     "text": [
      "Min elevation = 2\n",
      "Max elevation = 8172\n",
      "Mean elevation = 1286.3051317992813\n",
      "Median elevation = 985\n",
      "Standard deviation of elevations = 1109.276614514808\n"
     ]
    }
   ],
   "source": [
    "all_elevations = [] \n",
    "for country, mountains in mountains_map.items():\n",
    "    for mountain in mountains:\n",
    "        if mountain[\"elevation\"]:\n",
    "            all_elevations.append(mountain[\"elevation\"])\n",
    "# all_elevations = [\n",
    "#     mountain[\"elevation\"] \n",
    "#     for mountains in mountains_map.values() \n",
    "#     for mountain in mountains \n",
    "#     if mountain[\"elevation\"]\n",
    "# ]\n",
    "print(f\"Min elevation = {min(all_elevations)}\")\n",
    "print(f\"Max elevation = {max(all_elevations)}\")\n",
    "print(f\"Mean elevation = {statistics.mean(all_elevations)}\")\n",
    "print(f\"Median elevation = {statistics.median(all_elevations)}\")\n",
    "print(f\"Standard deviation of elevations = {statistics.stdev(all_elevations)}\")\n",
    "# all_elevations = sorted(all_elevations)\n",
    "# print(f\"Min elevation = {all_elevations[0]}\")\n",
    "# print(f\"Max elevation = {all_elevations[-1]}\")\n",
    "# print(f\"Median elevation = {all_elevations[int(len(all_elevations)/2)]}\")"
   ]
  },
  {
   "cell_type": "code",
   "execution_count": 5,
   "id": "5487e909",
   "metadata": {},
   "outputs": [
    {
     "name": "stdout",
     "output_type": "stream",
     "text": [
      "Top 10 highest mountains:\n",
      "\n",
      "Dhaulagiri @ 8172m\n",
      "Manaslu @ 8163m\n",
      "Nanga Parbat @ 8125m\n",
      "Annapurna @ 8091m\n",
      "Xixabangma Peak @ 8012m\n",
      "Kanchenjunga Mountain @ 8000m\n",
      "Nanga Mountain @ 8000m\n",
      "Nuptse @ 7879m\n",
      "Masherbrum @ 7821m\n",
      "Nanda Devi @ 7817m\n"
     ]
    }
   ],
   "source": [
    "topN = 10\n",
    "all_mountains = []\n",
    "for country in mountains_map.keys():\n",
    "    for mountain in mountains_map[country]:\n",
    "        if mountain[\"elevation\"]:\n",
    "            all_mountains.append(mountain)\n",
    "all_mountains.sort(key=lambda mountain: mountain[\"elevation\"], reverse=True)\n",
    "lines = [\n",
    "    f'{mountain[\"name\"]} @ {mountain[\"elevation\"]}m'\n",
    "    for mountain in all_mountains[:topN]\n",
    "]\n",
    "print(f\"Top 10 highest mountains:\\n\")\n",
    "print(\"\\n\".join(lines))"
   ]
  },
  {
   "cell_type": "code",
   "execution_count": 6,
   "id": "da5bf698",
   "metadata": {},
   "outputs": [
    {
     "name": "stdout",
     "output_type": "stream",
     "text": [
      "Top 10 highest mountains:\n",
      "\n",
      "Nepal: Dhaulagiri @ 8172m\n",
      "Nepal: Manaslu @ 8163m\n",
      "Pakistan: Nanga Parbat @ 8125m\n",
      "Nepal: Annapurna @ 8091m\n",
      "China: Xixabangma Peak @ 8012m\n",
      "India: Kanchenjunga Mountain @ 8000m\n",
      "Pakistan: Nanga Mountain @ 8000m\n",
      "Nepal: Nuptse @ 7879m\n",
      "Pakistan: Masherbrum @ 7821m\n",
      "India: Nanda Devi @ 7817m\n"
     ]
    }
   ],
   "source": [
    "# all_mountains = []\n",
    "# for country in mountains_map.keys():\n",
    "#     for mountain in mountains_map[country]:\n",
    "#         if mountain[\"elevation\"]:\n",
    "#             all_mountains.append({\n",
    "#                 \"country\":country,\n",
    "#                 \"name\":mountain[\"name\"],\n",
    "#                 \"elevation\":mountain[\"elevation\"]})\n",
    "all_mountains = [\n",
    "    {\n",
    "        \"country\":country,\n",
    "        \"name\":mountain[\"name\"],\n",
    "        \"elevation\":mountain[\"elevation\"]\n",
    "    }\n",
    "    for country, mountains in mountains_map.items()\n",
    "    for mountain in mountains\n",
    "    if mountain[\"elevation\"]\n",
    "]\n",
    "all_mountains.sort(key=lambda m: m[\"elevation\"], reverse=True)\n",
    "lines = [\n",
    "    f'{m[\"country\"]}: {m[\"name\"]} @ {m[\"elevation\"]}m'\n",
    "    for m in all_mountains[:topN] \n",
    "]\n",
    "print(f\"Top 10 highest mountains:\\n\")\n",
    "print(\"\\n\".join(lines))"
   ]
  }
 ],
 "metadata": {
  "kernelspec": {
   "display_name": "Python 3",
   "language": "python",
   "name": "python3"
  },
  "language_info": {
   "codemirror_mode": {
    "name": "ipython",
    "version": 3
   },
   "file_extension": ".py",
   "mimetype": "text/x-python",
   "name": "python",
   "nbconvert_exporter": "python",
   "pygments_lexer": "ipython3",
   "version": "3.13.5"
  }
 },
 "nbformat": 4,
 "nbformat_minor": 5
}
